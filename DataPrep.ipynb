{
 "cells": [
  {
   "cell_type": "markdown",
   "metadata": {},
   "source": [
    "# Imputing Missingness in FreeSurfer Outputs (IMFO)\n",
    "### **Shaina Sta. Cruz<sup>1</sup> and Farshid Sepehrband<sup>2</sup>**,  \n",
    "*1. California State University, Fullerton, CA, USA*  \n",
    "*2. Laboratory of Neuro Imaging, USC Mark and Mary Stevens Neuroimaging and Informatics Institute, Keck School of Medicine of USC, University of Southern California, Los Angeles, CA, USA*  \n",
    "\n",
    "**June 29 2017**  \n",
    "shainasta.cruz@gmail.com  \n",
    "farshid.sepehrband@loni.usc.edu  "
   ]
  },
  {
   "cell_type": "markdown",
   "metadata": {},
   "source": [
    "## Preparing the right data for the Shaina \n",
    "This notebook shows how to read FreeSurfer's output, prepare it for statsitcal analysis and keep a subset of interest.   \n",
    "\n",
    "Here, we focus on FreeSurfer's derived measures relating **cortical thickness**, **volume** and **surface area**.  \n",
    "\n",
    "We also use only FreeSurfer outputs of the **Desikan-Kiliany atlas**. Info about this atlas can be found here:   \n",
    "http://www.sciencedirect.com/science/article/pii/S1053811906000437#bib21"
   ]
  },
  {
   "cell_type": "markdown",
   "metadata": {},
   "source": [
    "## Import required libraries"
   ]
  },
  {
   "cell_type": "code",
   "execution_count": 1,
   "metadata": {
    "collapsed": false
   },
   "outputs": [
    {
     "name": "stdout",
     "output_type": "stream",
     "text": [
      "Populating the interactive namespace from numpy and matplotlib\n"
     ]
    }
   ],
   "source": [
    "import numpy as np\n",
    "import matplotlib.pyplot as plt\n",
    "import plotly.plotly as py\n",
    "import pandas as pd \n",
    "%pylab inline"
   ]
  },
  {
   "cell_type": "code",
   "execution_count": 2,
   "metadata": {
    "collapsed": true
   },
   "outputs": [],
   "source": [
    "import sys\n",
    "import os\n",
    "## Move to the parent directory (i.e., \".../IMFO\" rather than \".../IMFO/bin\")\n",
    "myDir = os.path.abspath('..')\n",
    "os.chdir(myDir)\n",
    "sys.path.append('lib')"
   ]
  },
  {
   "cell_type": "markdown",
   "metadata": {},
   "source": [
    "## input the main csv file"
   ]
  },
  {
   "cell_type": "code",
   "execution_count": 3,
   "metadata": {
    "collapsed": true
   },
   "outputs": [],
   "source": [
    "dataset = pd.read_csv('data/pnc_06262017.csv')\n",
    "# dataset has extra quotation mark in the column names, so clean with:\n",
    "dataset.columns = dataset.columns.str.replace('\\'',\"\")"
   ]
  },
  {
   "cell_type": "markdown",
   "metadata": {},
   "source": [
    "**Divide the DataFrame into:**\n",
    "* neuroimaging data (FreeSurfer's output)\n",
    "* confounds (Age, Race, ... )\n",
    "* phenotype of interest (here gender)"
   ]
  },
  {
   "cell_type": "code",
   "execution_count": 4,
   "metadata": {
    "collapsed": false
   },
   "outputs": [
    {
     "name": "stdout",
     "output_type": "stream",
     "text": [
      "              Age          IQ       Race           ICV\n",
      "count  997.000000  955.000000  997.00000  9.700000e+02\n",
      "mean   175.722166  102.064921    0.45336  1.520268e+06\n",
      "std     41.328371   15.477040    0.49807  1.706585e+05\n",
      "min     99.000000   68.000000    0.00000  8.802730e+05\n",
      "25%    140.000000   92.000000    0.00000  1.407098e+06\n",
      "50%    177.000000  100.000000    0.00000  1.523210e+06\n",
      "75%    210.000000  111.000000    1.00000  1.641225e+06\n",
      "max    271.000000  145.000000    1.00000  1.986020e+06\n"
     ]
    }
   ],
   "source": [
    "icv_name = [col for col in list(dataset) if 'EstimatedTotalIntraCranialVol:N:volume' in col][0]\n",
    "temp = [col for col in list(dataset) if col.startswith('FreeSurfer')]\n",
    "temp.remove(icv_name)\n",
    "nimg = dataset[temp]\n",
    "\n",
    "temp = [col for col in list(dataset) if 'FreeSurfer' not in col]\n",
    "temp.remove('Gender')\n",
    "conf = dataset[temp]\n",
    "conf = pd.concat([conf, dataset[icv_name]],axis=1)\n",
    "conf.rename(columns = {icv_name:'ICV'}, inplace = True)\n",
    "print(conf.describe())\n",
    "\n",
    "pheno = dataset['Gender']"
   ]
  },
  {
   "cell_type": "markdown",
   "metadata": {},
   "source": [
    "**Note** that IQ include missing data (count = 955). To keep as many subject as possible, we remove the IQ info from this study. "
   ]
  },
  {
   "cell_type": "code",
   "execution_count": 6,
   "metadata": {
    "collapsed": false
   },
   "outputs": [
    {
     "name": "stdout",
     "output_type": "stream",
     "text": [
      "              Age       Race           ICV\n",
      "count  997.000000  997.00000  9.700000e+02\n",
      "mean   175.722166    0.45336  1.520268e+06\n",
      "std     41.328371    0.49807  1.706585e+05\n",
      "min     99.000000    0.00000  8.802730e+05\n",
      "25%    140.000000    0.00000  1.407098e+06\n",
      "50%    177.000000    0.00000  1.523210e+06\n",
      "75%    210.000000    1.00000  1.641225e+06\n",
      "max    271.000000    1.00000  1.986020e+06\n"
     ]
    }
   ],
   "source": [
    "conf.drop('IQ',axis=1,inplace=True)\n",
    "print(conf.describe())"
   ]
  },
  {
   "cell_type": "markdown",
   "metadata": {},
   "source": [
    "## Create a subset of the DataFram\n",
    "This is based on the atlas and neuroanatomical features of interest"
   ]
  },
  {
   "cell_type": "code",
   "execution_count": 7,
   "metadata": {
    "collapsed": false
   },
   "outputs": [
    {
     "name": "stdout",
     "output_type": "stream",
     "text": [
      "208 neuroanatomical feature will be extraceted!\n"
     ]
    }
   ],
   "source": [
    "from DataEng import ParamLister\n",
    "params = ['volume','thickness','area']\n",
    "atlas_temp = ['FS_aparc_aseg'] \n",
    "# see help document of \"ParamLister\" function for all the possible options\n",
    "# \"ParamLister\" outputs a list of desired features, plus an extension (e.g. VAT) for the name of outputs file\n",
    "param_list, outParamName = ParamLister(params,atlas_temp,nimg)\n",
    "New = pd.concat([nimg.loc[:,param_list],conf,pheno],axis=1)"
   ]
  },
  {
   "cell_type": "code",
   "execution_count": 8,
   "metadata": {
    "collapsed": false
   },
   "outputs": [
    {
     "data": {
      "image/png": "[encoded data removed]",
      "text/plain": [
       "<matplotlib.figure.Figure at 0x105601f28>"
      ]
     },
     "metadata": {},
     "output_type": "display_data"
    }
   ],
   "source": [
    "# take a look at a given neuroanatomical feature \n",
    "neuro = 'rh_insula:N:volume'\n",
    "temp = [col for col in list(dataset) if neuro in col]\n",
    "\n",
    "for i in 0,1:\n",
    "    x = dataset.loc[dataset['Gender']==i,'Age']\n",
    "    y = dataset.loc[dataset['Gender']==i,temp]\n",
    "    plt.scatter(x,y,color='red' if i==1 else 'blue',label='female' if i==1 else 'male')\n",
    "\n",
    "plt.legend(loc='upper left')\n",
    "plt.xlabel('Age')\n",
    "plt.ylabel(neuro)\n",
    "plt.show()"
   ]
  },
  {
   "cell_type": "markdown",
   "metadata": {},
   "source": [
    "## Ouput the modified DataFrame"
   ]
  },
  {
   "cell_type": "code",
   "execution_count": 8,
   "metadata": {
    "collapsed": true
   },
   "outputs": [],
   "source": [
    "New.to_csv('data/pnc_'+outParamName+'_'+datetime.datetime.now().strftime('%m%d%Y')+'.csv')"
   ]
  }
 ],
 "metadata": {
  "kernelspec": {
   "display_name": "Python 3",
   "language": "python",
   "name": "python3"
  },
  "language_info": {
   "codemirror_mode": {
    "name": "ipython",
    "version": 3
   },
   "file_extension": ".py",
   "mimetype": "text/x-python",
   "name": "python",
   "nbconvert_exporter": "python",
   "pygments_lexer": "ipython3",
   "version": "3.6.0"
  }
 },
 "nbformat": 4,
 "nbformat_minor": 2
}
