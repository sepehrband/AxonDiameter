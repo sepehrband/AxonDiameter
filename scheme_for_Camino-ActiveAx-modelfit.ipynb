{
 "cells": [
  {
   "cell_type": "markdown",
   "metadata": {},
   "source": [
    "## Creating the scheme file (acquisition info) for ActiveAx model fitting using *modelfit* Camino module \n",
    "Below script explains how to create a scheme file, to be used with “modelfit”.  \n",
    "The example is based on acquisition parameters that was used in [this](http://onlinelibrary.wiley.com/doi/10.1002/nbm.3462/epdf) paper.  \n",
    "This requires [Camino](http://camino.cs.ucl.ac.uk).\n",
    "___\n",
    "Farshid Sepehrband   \n",
    "farshid.sepehrband@loni.usc.edu  \n",
    "Added to the Github repository in August 2017\n",
    "___"
   ]
  },
  {
   "cell_type": "markdown",
   "metadata": {},
   "source": [
    "## Set path to the Camino’s point sets \n",
    "\n",
    "```csh\n",
    "PointSetDir='/Users/Farshid/Farshid/Camino/camino-code-163f67cbf550560aa351b3d0a3bbbd7a22863cb4/PointSets/'\n",
    "```"
   ]
  },
  {
   "cell_type": "markdown",
   "metadata": {},
   "source": [
    "## Gather detailed acquisition protocol schemes\n",
    "This includes:  \n",
    "* gradient strength (|G|)\n",
    "* big delta \n",
    "* small delta\n",
    "* TE\n",
    "\n",
    "***Note***, It is very important to use the correct values and ISI unit The tricky one could be estimating |G|. Attached table describe how these can be measured.\n",
    "\n",
    "<img src=\"table.png\" style=\"width: 400px;\"/>\n"
   ]
  },
  {
   "cell_type": "markdown",
   "metadata": {},
   "source": [
    "### Create scheme file based on |G|, bdel, sdel and TE\n",
    "Note that -inputfile is the gradient (bvec) in Camino file format. Adjust accordingly. \n",
    "```csh\n",
    "pointset2scheme -version STEJSKALTANNER -dwparams 1.11 0.02837 0.0011 0.035 -addzeromeas 2 -inputfile ${PointSetDir}Elec060.txt > b002974.scheme\n",
    "pointset2scheme -version STEJSKALTANNER -dwparams 1.23 0.00708 0.0023 0.035 -addzeromeas 2 -inputfile ${PointSetDir}Elec060.txt > b003597.scheme\n",
    "pointset2scheme -version STEJSKALTANNER -dwparams 0.46 0.023 0.00628 0.035 -addzeromeas 2 -inputfile ${PointSetDir}Elec060.txt > b012693.scheme\n",
    "pointset2scheme -version STEJSKALTANNER -dwparams 0.51 0.02367 0.00561 0.035 -addzeromeas 2 -inputfile ${PointSetDir}Elec060.txt > b012706.scheme\n",
    "pointset2scheme -version STEJSKALTANNER -dwparams 1.35 0.01364 0.00864 0.035 -addzeromeas 2 -inputfile ${PointSetDir}Elec120.txt > b104870.scheme\n",
    "```"
   ]
  },
  {
   "cell_type": "markdown",
   "metadata": {},
   "source": [
    "### Put them all together to create a scheme file for \"modelfit\" command\n",
    "```csh\n",
    "cp b002974.scheme All.scheme\n",
    "tail -62 b003597.scheme >> All.scheme\n",
    "tail -62 b012693.scheme >> All.scheme\n",
    "tail -62 b012706.scheme >> All.scheme\n",
    "tail -122 b104870.scheme >> All.scheme\n",
    "```"
   ]
  },
  {
   "cell_type": "markdown",
   "metadata": {},
   "source": [
    "### Check the scheme file: \n",
    "```csh\n",
    "cat All.scheme\n",
    "```"
   ]
  }
 ],
 "metadata": {
  "kernelspec": {
   "display_name": "Python 3",
   "language": "python",
   "name": "python3"
  },
  "language_info": {
   "codemirror_mode": {
    "name": "ipython",
    "version": 3
   },
   "file_extension": ".py",
   "mimetype": "text/x-python",
   "name": "python",
   "nbconvert_exporter": "python",
   "pygments_lexer": "ipython3",
   "version": "3.6.0"
  }
 },
 "nbformat": 4,
 "nbformat_minor": 2
}
